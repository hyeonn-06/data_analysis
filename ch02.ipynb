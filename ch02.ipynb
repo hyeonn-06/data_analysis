{
  "nbformat": 4,
  "nbformat_minor": 0,
  "metadata": {
    "colab": {
      "provenance": [],
      "authorship_tag": "ABX9TyPf2TFYEY5TfDNBvl0on3bm",
      "include_colab_link": true
    },
    "kernelspec": {
      "name": "python3",
      "display_name": "Python 3"
    },
    "language_info": {
      "name": "python"
    }
  },
  "cells": [
    {
      "cell_type": "markdown",
      "metadata": {
        "id": "view-in-github",
        "colab_type": "text"
      },
      "source": [
        "<a href=\"https://colab.research.google.com/github/hyeonn-06/data_analysis/blob/main/ch02.ipynb\" target=\"_parent\"><img src=\"https://colab.research.google.com/assets/colab-badge.svg\" alt=\"Open In Colab\"/></a>"
      ]
    },
    {
      "cell_type": "code",
      "execution_count": null,
      "metadata": {
        "colab": {
          "base_uri": "https://localhost:8080/"
        },
        "id": "1v4cm5ilVqt5",
        "outputId": "8dcae1d9-eece-48e2-b971-a3147527b6cc"
      },
      "outputs": [
        {
          "output_type": "stream",
          "name": "stdout",
          "text": [
            "{'name': '혼자 공부하는 데이터 분석'}\n",
            "<class 'dict'>\n"
          ]
        }
      ],
      "source": [
        "# 딕셔너리 데이터 작성 (json 형식과 같다.)\n",
        "d = {\"name\":\"혼자 공부하는 데이터 분석\"}\n",
        "print(d)\n",
        "print(type(d))"
      ]
    },
    {
      "cell_type": "code",
      "source": [
        "# 딕셔너리를 JSON 문자열로 변환 (json.dumps())\n",
        "import json\n",
        "d_str = json.dumps(d, ensure_ascii=False)\n",
        "print(d_str)\n",
        "print(type(d_str))"
      ],
      "metadata": {
        "colab": {
          "base_uri": "https://localhost:8080/"
        },
        "id": "9ATVC3sGWyQD",
        "outputId": "472c9477-0595-4aad-a6a9-f40d8223f0ad"
      },
      "execution_count": null,
      "outputs": [
        {
          "output_type": "stream",
          "name": "stdout",
          "text": [
            "{\"name\": \"혼자 공부하는 데이터 분석\"}\n",
            "<class 'str'>\n"
          ]
        }
      ]
    },
    {
      "cell_type": "code",
      "source": [
        "# JSON 문자열을 딕셔너리로 변환 (json.loads())\n",
        "d2 = json.loads(d_str)\n",
        "print(d2)\n",
        "print(type(d2))"
      ],
      "metadata": {
        "colab": {
          "base_uri": "https://localhost:8080/"
        },
        "id": "-Q27g29QWy7K",
        "outputId": "7e484973-f556-4190-bb19-729bea3155a5"
      },
      "execution_count": null,
      "outputs": [
        {
          "output_type": "stream",
          "name": "stdout",
          "text": [
            "{'name': '혼자 공부하는 데이터 분석'}\n",
            "<class 'dict'>\n"
          ]
        }
      ]
    },
    {
      "cell_type": "code",
      "source": [],
      "metadata": {
        "id": "T3epPwbRWy5K"
      },
      "execution_count": null,
      "outputs": []
    },
    {
      "cell_type": "code",
      "source": [],
      "metadata": {
        "id": "OUXHUhzBWy2s"
      },
      "execution_count": null,
      "outputs": []
    },
    {
      "cell_type": "code",
      "source": [],
      "metadata": {
        "id": "VuhQeffZWyz6"
      },
      "execution_count": null,
      "outputs": []
    }
  ]
}
{
  "nbformat": 4,
  "nbformat_minor": 0,
  "metadata": {
    "colab": {
      "provenance": [],
      "authorship_tag": "ABX9TyPaRon0AABNbEaHR3kOH7Uw",
      "include_colab_link": true
    },
    "kernelspec": {
      "name": "python3",
      "display_name": "Python 3"
    },
    "language_info": {
      "name": "python"
    }
  },
  "cells": [
    {
      "cell_type": "markdown",
      "metadata": {
        "id": "view-in-github",
        "colab_type": "text"
      },
      "source": [
        "<a href=\"https://colab.research.google.com/github/hyeonn-06/data_analysis/blob/main/rag_test.ipynb\" target=\"_parent\"><img src=\"https://colab.research.google.com/assets/colab-badge.svg\" alt=\"Open In Colab\"/></a>"
      ]
    },
    {
      "cell_type": "code",
      "execution_count": null,
      "metadata": {
        "colab": {
          "base_uri": "https://localhost:8080/"
        },
        "id": "ha5Q9QvAEG06",
        "outputId": "b0a161bd-5cda-4bc6-e67b-c28e0bf48289"
      },
      "outputs": [
        {
          "output_type": "stream",
          "name": "stdout",
          "text": [
            "Requirement already satisfied: langchain in /usr/local/lib/python3.11/dist-packages (0.3.25)\n",
            "Requirement already satisfied: langchain-core<1.0.0,>=0.3.58 in /usr/local/lib/python3.11/dist-packages (from langchain) (0.3.59)\n",
            "Requirement already satisfied: langchain-text-splitters<1.0.0,>=0.3.8 in /usr/local/lib/python3.11/dist-packages (from langchain) (0.3.8)\n",
            "Requirement already satisfied: langsmith<0.4,>=0.1.17 in /usr/local/lib/python3.11/dist-packages (from langchain) (0.3.42)\n",
            "Requirement already satisfied: pydantic<3.0.0,>=2.7.4 in /usr/local/lib/python3.11/dist-packages (from langchain) (2.11.4)\n",
            "Requirement already satisfied: SQLAlchemy<3,>=1.4 in /usr/local/lib/python3.11/dist-packages (from langchain) (2.0.40)\n",
            "Requirement already satisfied: requests<3,>=2 in /usr/local/lib/python3.11/dist-packages (from langchain) (2.32.3)\n",
            "Requirement already satisfied: PyYAML>=5.3 in /usr/local/lib/python3.11/dist-packages (from langchain) (6.0.2)\n",
            "Requirement already satisfied: tenacity!=8.4.0,<10.0.0,>=8.1.0 in /usr/local/lib/python3.11/dist-packages (from langchain-core<1.0.0,>=0.3.58->langchain) (9.1.2)\n",
            "Requirement already satisfied: jsonpatch<2.0,>=1.33 in /usr/local/lib/python3.11/dist-packages (from langchain-core<1.0.0,>=0.3.58->langchain) (1.33)\n",
            "Requirement already satisfied: packaging<25,>=23.2 in /usr/local/lib/python3.11/dist-packages (from langchain-core<1.0.0,>=0.3.58->langchain) (24.2)\n",
            "Requirement already satisfied: typing-extensions>=4.7 in /usr/local/lib/python3.11/dist-packages (from langchain-core<1.0.0,>=0.3.58->langchain) (4.13.2)\n",
            "Requirement already satisfied: httpx<1,>=0.23.0 in /usr/local/lib/python3.11/dist-packages (from langsmith<0.4,>=0.1.17->langchain) (0.28.1)\n",
            "Requirement already satisfied: orjson<4.0.0,>=3.9.14 in /usr/local/lib/python3.11/dist-packages (from langsmith<0.4,>=0.1.17->langchain) (3.10.18)\n",
            "Requirement already satisfied: requests-toolbelt<2.0.0,>=1.0.0 in /usr/local/lib/python3.11/dist-packages (from langsmith<0.4,>=0.1.17->langchain) (1.0.0)\n",
            "Requirement already satisfied: zstandard<0.24.0,>=0.23.0 in /usr/local/lib/python3.11/dist-packages (from langsmith<0.4,>=0.1.17->langchain) (0.23.0)\n",
            "Requirement already satisfied: annotated-types>=0.6.0 in /usr/local/lib/python3.11/dist-packages (from pydantic<3.0.0,>=2.7.4->langchain) (0.7.0)\n",
            "Requirement already satisfied: pydantic-core==2.33.2 in /usr/local/lib/python3.11/dist-packages (from pydantic<3.0.0,>=2.7.4->langchain) (2.33.2)\n",
            "Requirement already satisfied: typing-inspection>=0.4.0 in /usr/local/lib/python3.11/dist-packages (from pydantic<3.0.0,>=2.7.4->langchain) (0.4.0)\n",
            "Requirement already satisfied: charset-normalizer<4,>=2 in /usr/local/lib/python3.11/dist-packages (from requests<3,>=2->langchain) (3.4.2)\n",
            "Requirement already satisfied: idna<4,>=2.5 in /usr/local/lib/python3.11/dist-packages (from requests<3,>=2->langchain) (3.10)\n",
            "Requirement already satisfied: urllib3<3,>=1.21.1 in /usr/local/lib/python3.11/dist-packages (from requests<3,>=2->langchain) (2.4.0)\n",
            "Requirement already satisfied: certifi>=2017.4.17 in /usr/local/lib/python3.11/dist-packages (from requests<3,>=2->langchain) (2025.4.26)\n",
            "Requirement already satisfied: greenlet>=1 in /usr/local/lib/python3.11/dist-packages (from SQLAlchemy<3,>=1.4->langchain) (3.2.1)\n",
            "Requirement already satisfied: anyio in /usr/local/lib/python3.11/dist-packages (from httpx<1,>=0.23.0->langsmith<0.4,>=0.1.17->langchain) (4.9.0)\n",
            "Requirement already satisfied: httpcore==1.* in /usr/local/lib/python3.11/dist-packages (from httpx<1,>=0.23.0->langsmith<0.4,>=0.1.17->langchain) (1.0.9)\n",
            "Requirement already satisfied: h11>=0.16 in /usr/local/lib/python3.11/dist-packages (from httpcore==1.*->httpx<1,>=0.23.0->langsmith<0.4,>=0.1.17->langchain) (0.16.0)\n",
            "Requirement already satisfied: jsonpointer>=1.9 in /usr/local/lib/python3.11/dist-packages (from jsonpatch<2.0,>=1.33->langchain-core<1.0.0,>=0.3.58->langchain) (3.0.0)\n",
            "Requirement already satisfied: sniffio>=1.1 in /usr/local/lib/python3.11/dist-packages (from anyio->httpx<1,>=0.23.0->langsmith<0.4,>=0.1.17->langchain) (1.3.1)\n",
            "Requirement already satisfied: langchain-google-genai in /usr/local/lib/python3.11/dist-packages (2.1.4)\n",
            "Requirement already satisfied: filetype<2.0.0,>=1.2.0 in /usr/local/lib/python3.11/dist-packages (from langchain-google-genai) (1.2.0)\n",
            "Requirement already satisfied: google-ai-generativelanguage<0.7.0,>=0.6.18 in /usr/local/lib/python3.11/dist-packages (from langchain-google-genai) (0.6.18)\n",
            "Requirement already satisfied: langchain-core<0.4.0,>=0.3.52 in /usr/local/lib/python3.11/dist-packages (from langchain-google-genai) (0.3.59)\n",
            "Requirement already satisfied: pydantic<3,>=2 in /usr/local/lib/python3.11/dist-packages (from langchain-google-genai) (2.11.4)\n",
            "Requirement already satisfied: google-api-core!=2.0.*,!=2.1.*,!=2.10.*,!=2.2.*,!=2.3.*,!=2.4.*,!=2.5.*,!=2.6.*,!=2.7.*,!=2.8.*,!=2.9.*,<3.0.0,>=1.34.1 in /usr/local/lib/python3.11/dist-packages (from google-api-core[grpc]!=2.0.*,!=2.1.*,!=2.10.*,!=2.2.*,!=2.3.*,!=2.4.*,!=2.5.*,!=2.6.*,!=2.7.*,!=2.8.*,!=2.9.*,<3.0.0,>=1.34.1->google-ai-generativelanguage<0.7.0,>=0.6.18->langchain-google-genai) (2.24.2)\n",
            "Requirement already satisfied: google-auth!=2.24.0,!=2.25.0,<3.0.0,>=2.14.1 in /usr/local/lib/python3.11/dist-packages (from google-ai-generativelanguage<0.7.0,>=0.6.18->langchain-google-genai) (2.38.0)\n",
            "Requirement already satisfied: proto-plus<2.0.0,>=1.22.3 in /usr/local/lib/python3.11/dist-packages (from google-ai-generativelanguage<0.7.0,>=0.6.18->langchain-google-genai) (1.26.1)\n",
            "Requirement already satisfied: protobuf!=4.21.0,!=4.21.1,!=4.21.2,!=4.21.3,!=4.21.4,!=4.21.5,<7.0.0,>=3.20.2 in /usr/local/lib/python3.11/dist-packages (from google-ai-generativelanguage<0.7.0,>=0.6.18->langchain-google-genai) (5.29.4)\n",
            "Requirement already satisfied: langsmith<0.4,>=0.1.125 in /usr/local/lib/python3.11/dist-packages (from langchain-core<0.4.0,>=0.3.52->langchain-google-genai) (0.3.42)\n",
            "Requirement already satisfied: tenacity!=8.4.0,<10.0.0,>=8.1.0 in /usr/local/lib/python3.11/dist-packages (from langchain-core<0.4.0,>=0.3.52->langchain-google-genai) (9.1.2)\n",
            "Requirement already satisfied: jsonpatch<2.0,>=1.33 in /usr/local/lib/python3.11/dist-packages (from langchain-core<0.4.0,>=0.3.52->langchain-google-genai) (1.33)\n",
            "Requirement already satisfied: PyYAML>=5.3 in /usr/local/lib/python3.11/dist-packages (from langchain-core<0.4.0,>=0.3.52->langchain-google-genai) (6.0.2)\n",
            "Requirement already satisfied: packaging<25,>=23.2 in /usr/local/lib/python3.11/dist-packages (from langchain-core<0.4.0,>=0.3.52->langchain-google-genai) (24.2)\n",
            "Requirement already satisfied: typing-extensions>=4.7 in /usr/local/lib/python3.11/dist-packages (from langchain-core<0.4.0,>=0.3.52->langchain-google-genai) (4.13.2)\n",
            "Requirement already satisfied: annotated-types>=0.6.0 in /usr/local/lib/python3.11/dist-packages (from pydantic<3,>=2->langchain-google-genai) (0.7.0)\n",
            "Requirement already satisfied: pydantic-core==2.33.2 in /usr/local/lib/python3.11/dist-packages (from pydantic<3,>=2->langchain-google-genai) (2.33.2)\n",
            "Requirement already satisfied: typing-inspection>=0.4.0 in /usr/local/lib/python3.11/dist-packages (from pydantic<3,>=2->langchain-google-genai) (0.4.0)\n",
            "Requirement already satisfied: googleapis-common-protos<2.0.0,>=1.56.2 in /usr/local/lib/python3.11/dist-packages (from google-api-core!=2.0.*,!=2.1.*,!=2.10.*,!=2.2.*,!=2.3.*,!=2.4.*,!=2.5.*,!=2.6.*,!=2.7.*,!=2.8.*,!=2.9.*,<3.0.0,>=1.34.1->google-api-core[grpc]!=2.0.*,!=2.1.*,!=2.10.*,!=2.2.*,!=2.3.*,!=2.4.*,!=2.5.*,!=2.6.*,!=2.7.*,!=2.8.*,!=2.9.*,<3.0.0,>=1.34.1->google-ai-generativelanguage<0.7.0,>=0.6.18->langchain-google-genai) (1.70.0)\n",
            "Requirement already satisfied: requests<3.0.0,>=2.18.0 in /usr/local/lib/python3.11/dist-packages (from google-api-core!=2.0.*,!=2.1.*,!=2.10.*,!=2.2.*,!=2.3.*,!=2.4.*,!=2.5.*,!=2.6.*,!=2.7.*,!=2.8.*,!=2.9.*,<3.0.0,>=1.34.1->google-api-core[grpc]!=2.0.*,!=2.1.*,!=2.10.*,!=2.2.*,!=2.3.*,!=2.4.*,!=2.5.*,!=2.6.*,!=2.7.*,!=2.8.*,!=2.9.*,<3.0.0,>=1.34.1->google-ai-generativelanguage<0.7.0,>=0.6.18->langchain-google-genai) (2.32.3)\n",
            "Requirement already satisfied: grpcio<2.0dev,>=1.33.2 in /usr/local/lib/python3.11/dist-packages (from google-api-core[grpc]!=2.0.*,!=2.1.*,!=2.10.*,!=2.2.*,!=2.3.*,!=2.4.*,!=2.5.*,!=2.6.*,!=2.7.*,!=2.8.*,!=2.9.*,<3.0.0,>=1.34.1->google-ai-generativelanguage<0.7.0,>=0.6.18->langchain-google-genai) (1.71.0)\n",
            "Requirement already satisfied: grpcio-status<2.0.dev0,>=1.33.2 in /usr/local/lib/python3.11/dist-packages (from google-api-core[grpc]!=2.0.*,!=2.1.*,!=2.10.*,!=2.2.*,!=2.3.*,!=2.4.*,!=2.5.*,!=2.6.*,!=2.7.*,!=2.8.*,!=2.9.*,<3.0.0,>=1.34.1->google-ai-generativelanguage<0.7.0,>=0.6.18->langchain-google-genai) (1.71.0)\n",
            "Requirement already satisfied: cachetools<6.0,>=2.0.0 in /usr/local/lib/python3.11/dist-packages (from google-auth!=2.24.0,!=2.25.0,<3.0.0,>=2.14.1->google-ai-generativelanguage<0.7.0,>=0.6.18->langchain-google-genai) (5.5.2)\n",
            "Requirement already satisfied: pyasn1-modules>=0.2.1 in /usr/local/lib/python3.11/dist-packages (from google-auth!=2.24.0,!=2.25.0,<3.0.0,>=2.14.1->google-ai-generativelanguage<0.7.0,>=0.6.18->langchain-google-genai) (0.4.2)\n",
            "Requirement already satisfied: rsa<5,>=3.1.4 in /usr/local/lib/python3.11/dist-packages (from google-auth!=2.24.0,!=2.25.0,<3.0.0,>=2.14.1->google-ai-generativelanguage<0.7.0,>=0.6.18->langchain-google-genai) (4.9.1)\n",
            "Requirement already satisfied: jsonpointer>=1.9 in /usr/local/lib/python3.11/dist-packages (from jsonpatch<2.0,>=1.33->langchain-core<0.4.0,>=0.3.52->langchain-google-genai) (3.0.0)\n",
            "Requirement already satisfied: httpx<1,>=0.23.0 in /usr/local/lib/python3.11/dist-packages (from langsmith<0.4,>=0.1.125->langchain-core<0.4.0,>=0.3.52->langchain-google-genai) (0.28.1)\n",
            "Requirement already satisfied: orjson<4.0.0,>=3.9.14 in /usr/local/lib/python3.11/dist-packages (from langsmith<0.4,>=0.1.125->langchain-core<0.4.0,>=0.3.52->langchain-google-genai) (3.10.18)\n",
            "Requirement already satisfied: requests-toolbelt<2.0.0,>=1.0.0 in /usr/local/lib/python3.11/dist-packages (from langsmith<0.4,>=0.1.125->langchain-core<0.4.0,>=0.3.52->langchain-google-genai) (1.0.0)\n",
            "Requirement already satisfied: zstandard<0.24.0,>=0.23.0 in /usr/local/lib/python3.11/dist-packages (from langsmith<0.4,>=0.1.125->langchain-core<0.4.0,>=0.3.52->langchain-google-genai) (0.23.0)\n",
            "Requirement already satisfied: anyio in /usr/local/lib/python3.11/dist-packages (from httpx<1,>=0.23.0->langsmith<0.4,>=0.1.125->langchain-core<0.4.0,>=0.3.52->langchain-google-genai) (4.9.0)\n",
            "Requirement already satisfied: certifi in /usr/local/lib/python3.11/dist-packages (from httpx<1,>=0.23.0->langsmith<0.4,>=0.1.125->langchain-core<0.4.0,>=0.3.52->langchain-google-genai) (2025.4.26)\n",
            "Requirement already satisfied: httpcore==1.* in /usr/local/lib/python3.11/dist-packages (from httpx<1,>=0.23.0->langsmith<0.4,>=0.1.125->langchain-core<0.4.0,>=0.3.52->langchain-google-genai) (1.0.9)\n",
            "Requirement already satisfied: idna in /usr/local/lib/python3.11/dist-packages (from httpx<1,>=0.23.0->langsmith<0.4,>=0.1.125->langchain-core<0.4.0,>=0.3.52->langchain-google-genai) (3.10)\n",
            "Requirement already satisfied: h11>=0.16 in /usr/local/lib/python3.11/dist-packages (from httpcore==1.*->httpx<1,>=0.23.0->langsmith<0.4,>=0.1.125->langchain-core<0.4.0,>=0.3.52->langchain-google-genai) (0.16.0)\n",
            "Requirement already satisfied: pyasn1<0.7.0,>=0.6.1 in /usr/local/lib/python3.11/dist-packages (from pyasn1-modules>=0.2.1->google-auth!=2.24.0,!=2.25.0,<3.0.0,>=2.14.1->google-ai-generativelanguage<0.7.0,>=0.6.18->langchain-google-genai) (0.6.1)\n",
            "Requirement already satisfied: charset-normalizer<4,>=2 in /usr/local/lib/python3.11/dist-packages (from requests<3.0.0,>=2.18.0->google-api-core!=2.0.*,!=2.1.*,!=2.10.*,!=2.2.*,!=2.3.*,!=2.4.*,!=2.5.*,!=2.6.*,!=2.7.*,!=2.8.*,!=2.9.*,<3.0.0,>=1.34.1->google-api-core[grpc]!=2.0.*,!=2.1.*,!=2.10.*,!=2.2.*,!=2.3.*,!=2.4.*,!=2.5.*,!=2.6.*,!=2.7.*,!=2.8.*,!=2.9.*,<3.0.0,>=1.34.1->google-ai-generativelanguage<0.7.0,>=0.6.18->langchain-google-genai) (3.4.2)\n",
            "Requirement already satisfied: urllib3<3,>=1.21.1 in /usr/local/lib/python3.11/dist-packages (from requests<3.0.0,>=2.18.0->google-api-core!=2.0.*,!=2.1.*,!=2.10.*,!=2.2.*,!=2.3.*,!=2.4.*,!=2.5.*,!=2.6.*,!=2.7.*,!=2.8.*,!=2.9.*,<3.0.0,>=1.34.1->google-api-core[grpc]!=2.0.*,!=2.1.*,!=2.10.*,!=2.2.*,!=2.3.*,!=2.4.*,!=2.5.*,!=2.6.*,!=2.7.*,!=2.8.*,!=2.9.*,<3.0.0,>=1.34.1->google-ai-generativelanguage<0.7.0,>=0.6.18->langchain-google-genai) (2.4.0)\n",
            "Requirement already satisfied: sniffio>=1.1 in /usr/local/lib/python3.11/dist-packages (from anyio->httpx<1,>=0.23.0->langsmith<0.4,>=0.1.125->langchain-core<0.4.0,>=0.3.52->langchain-google-genai) (1.3.1)\n",
            "Requirement already satisfied: langchain-community in /usr/local/lib/python3.11/dist-packages (0.3.24)\n",
            "Requirement already satisfied: langchain-core<1.0.0,>=0.3.59 in /usr/local/lib/python3.11/dist-packages (from langchain-community) (0.3.59)\n",
            "Requirement already satisfied: langchain<1.0.0,>=0.3.25 in /usr/local/lib/python3.11/dist-packages (from langchain-community) (0.3.25)\n",
            "Requirement already satisfied: SQLAlchemy<3,>=1.4 in /usr/local/lib/python3.11/dist-packages (from langchain-community) (2.0.40)\n",
            "Requirement already satisfied: requests<3,>=2 in /usr/local/lib/python3.11/dist-packages (from langchain-community) (2.32.3)\n",
            "Requirement already satisfied: PyYAML>=5.3 in /usr/local/lib/python3.11/dist-packages (from langchain-community) (6.0.2)\n",
            "Requirement already satisfied: aiohttp<4.0.0,>=3.8.3 in /usr/local/lib/python3.11/dist-packages (from langchain-community) (3.11.15)\n",
            "Requirement already satisfied: tenacity!=8.4.0,<10,>=8.1.0 in /usr/local/lib/python3.11/dist-packages (from langchain-community) (9.1.2)\n",
            "Requirement already satisfied: dataclasses-json<0.7,>=0.5.7 in /usr/local/lib/python3.11/dist-packages (from langchain-community) (0.6.7)\n",
            "Requirement already satisfied: pydantic-settings<3.0.0,>=2.4.0 in /usr/local/lib/python3.11/dist-packages (from langchain-community) (2.9.1)\n",
            "Requirement already satisfied: langsmith<0.4,>=0.1.125 in /usr/local/lib/python3.11/dist-packages (from langchain-community) (0.3.42)\n",
            "Requirement already satisfied: httpx-sse<1.0.0,>=0.4.0 in /usr/local/lib/python3.11/dist-packages (from langchain-community) (0.4.0)\n",
            "Requirement already satisfied: numpy>=1.26.2 in /usr/local/lib/python3.11/dist-packages (from langchain-community) (2.0.2)\n",
            "Requirement already satisfied: aiohappyeyeballs>=2.3.0 in /usr/local/lib/python3.11/dist-packages (from aiohttp<4.0.0,>=3.8.3->langchain-community) (2.6.1)\n",
            "Requirement already satisfied: aiosignal>=1.1.2 in /usr/local/lib/python3.11/dist-packages (from aiohttp<4.0.0,>=3.8.3->langchain-community) (1.3.2)\n",
            "Requirement already satisfied: attrs>=17.3.0 in /usr/local/lib/python3.11/dist-packages (from aiohttp<4.0.0,>=3.8.3->langchain-community) (25.3.0)\n",
            "Requirement already satisfied: frozenlist>=1.1.1 in /usr/local/lib/python3.11/dist-packages (from aiohttp<4.0.0,>=3.8.3->langchain-community) (1.6.0)\n",
            "Requirement already satisfied: multidict<7.0,>=4.5 in /usr/local/lib/python3.11/dist-packages (from aiohttp<4.0.0,>=3.8.3->langchain-community) (6.4.3)\n",
            "Requirement already satisfied: propcache>=0.2.0 in /usr/local/lib/python3.11/dist-packages (from aiohttp<4.0.0,>=3.8.3->langchain-community) (0.3.1)\n",
            "Requirement already satisfied: yarl<2.0,>=1.17.0 in /usr/local/lib/python3.11/dist-packages (from aiohttp<4.0.0,>=3.8.3->langchain-community) (1.20.0)\n",
            "Requirement already satisfied: marshmallow<4.0.0,>=3.18.0 in /usr/local/lib/python3.11/dist-packages (from dataclasses-json<0.7,>=0.5.7->langchain-community) (3.26.1)\n",
            "Requirement already satisfied: typing-inspect<1,>=0.4.0 in /usr/local/lib/python3.11/dist-packages (from dataclasses-json<0.7,>=0.5.7->langchain-community) (0.9.0)\n",
            "Requirement already satisfied: langchain-text-splitters<1.0.0,>=0.3.8 in /usr/local/lib/python3.11/dist-packages (from langchain<1.0.0,>=0.3.25->langchain-community) (0.3.8)\n",
            "Requirement already satisfied: pydantic<3.0.0,>=2.7.4 in /usr/local/lib/python3.11/dist-packages (from langchain<1.0.0,>=0.3.25->langchain-community) (2.11.4)\n",
            "Requirement already satisfied: jsonpatch<2.0,>=1.33 in /usr/local/lib/python3.11/dist-packages (from langchain-core<1.0.0,>=0.3.59->langchain-community) (1.33)\n",
            "Requirement already satisfied: packaging<25,>=23.2 in /usr/local/lib/python3.11/dist-packages (from langchain-core<1.0.0,>=0.3.59->langchain-community) (24.2)\n",
            "Requirement already satisfied: typing-extensions>=4.7 in /usr/local/lib/python3.11/dist-packages (from langchain-core<1.0.0,>=0.3.59->langchain-community) (4.13.2)\n",
            "Requirement already satisfied: httpx<1,>=0.23.0 in /usr/local/lib/python3.11/dist-packages (from langsmith<0.4,>=0.1.125->langchain-community) (0.28.1)\n",
            "Requirement already satisfied: orjson<4.0.0,>=3.9.14 in /usr/local/lib/python3.11/dist-packages (from langsmith<0.4,>=0.1.125->langchain-community) (3.10.18)\n",
            "Requirement already satisfied: requests-toolbelt<2.0.0,>=1.0.0 in /usr/local/lib/python3.11/dist-packages (from langsmith<0.4,>=0.1.125->langchain-community) (1.0.0)\n",
            "Requirement already satisfied: zstandard<0.24.0,>=0.23.0 in /usr/local/lib/python3.11/dist-packages (from langsmith<0.4,>=0.1.125->langchain-community) (0.23.0)\n",
            "Requirement already satisfied: python-dotenv>=0.21.0 in /usr/local/lib/python3.11/dist-packages (from pydantic-settings<3.0.0,>=2.4.0->langchain-community) (1.1.0)\n",
            "Requirement already satisfied: typing-inspection>=0.4.0 in /usr/local/lib/python3.11/dist-packages (from pydantic-settings<3.0.0,>=2.4.0->langchain-community) (0.4.0)\n",
            "Requirement already satisfied: charset-normalizer<4,>=2 in /usr/local/lib/python3.11/dist-packages (from requests<3,>=2->langchain-community) (3.4.2)\n",
            "Requirement already satisfied: idna<4,>=2.5 in /usr/local/lib/python3.11/dist-packages (from requests<3,>=2->langchain-community) (3.10)\n",
            "Requirement already satisfied: urllib3<3,>=1.21.1 in /usr/local/lib/python3.11/dist-packages (from requests<3,>=2->langchain-community) (2.4.0)\n",
            "Requirement already satisfied: certifi>=2017.4.17 in /usr/local/lib/python3.11/dist-packages (from requests<3,>=2->langchain-community) (2025.4.26)\n",
            "Requirement already satisfied: greenlet>=1 in /usr/local/lib/python3.11/dist-packages (from SQLAlchemy<3,>=1.4->langchain-community) (3.2.1)\n",
            "Requirement already satisfied: anyio in /usr/local/lib/python3.11/dist-packages (from httpx<1,>=0.23.0->langsmith<0.4,>=0.1.125->langchain-community) (4.9.0)\n",
            "Requirement already satisfied: httpcore==1.* in /usr/local/lib/python3.11/dist-packages (from httpx<1,>=0.23.0->langsmith<0.4,>=0.1.125->langchain-community) (1.0.9)\n",
            "Requirement already satisfied: h11>=0.16 in /usr/local/lib/python3.11/dist-packages (from httpcore==1.*->httpx<1,>=0.23.0->langsmith<0.4,>=0.1.125->langchain-community) (0.16.0)\n",
            "Requirement already satisfied: jsonpointer>=1.9 in /usr/local/lib/python3.11/dist-packages (from jsonpatch<2.0,>=1.33->langchain-core<1.0.0,>=0.3.59->langchain-community) (3.0.0)\n",
            "Requirement already satisfied: annotated-types>=0.6.0 in /usr/local/lib/python3.11/dist-packages (from pydantic<3.0.0,>=2.7.4->langchain<1.0.0,>=0.3.25->langchain-community) (0.7.0)\n",
            "Requirement already satisfied: pydantic-core==2.33.2 in /usr/local/lib/python3.11/dist-packages (from pydantic<3.0.0,>=2.7.4->langchain<1.0.0,>=0.3.25->langchain-community) (2.33.2)\n",
            "Requirement already satisfied: mypy-extensions>=0.3.0 in /usr/local/lib/python3.11/dist-packages (from typing-inspect<1,>=0.4.0->dataclasses-json<0.7,>=0.5.7->langchain-community) (1.1.0)\n",
            "Requirement already satisfied: sniffio>=1.1 in /usr/local/lib/python3.11/dist-packages (from anyio->httpx<1,>=0.23.0->langsmith<0.4,>=0.1.125->langchain-community) (1.3.1)\n",
            "Requirement already satisfied: chromadb in /usr/local/lib/python3.11/dist-packages (1.0.9)\n",
            "Requirement already satisfied: build>=1.0.3 in /usr/local/lib/python3.11/dist-packages (from chromadb) (1.2.2.post1)\n",
            "Requirement already satisfied: pydantic>=1.9 in /usr/local/lib/python3.11/dist-packages (from chromadb) (2.11.4)\n",
            "Requirement already satisfied: fastapi==0.115.9 in /usr/local/lib/python3.11/dist-packages (from chromadb) (0.115.9)\n",
            "Requirement already satisfied: uvicorn>=0.18.3 in /usr/local/lib/python3.11/dist-packages (from uvicorn[standard]>=0.18.3->chromadb) (0.34.2)\n",
            "Requirement already satisfied: numpy>=1.22.5 in /usr/local/lib/python3.11/dist-packages (from chromadb) (2.0.2)\n",
            "Requirement already satisfied: posthog>=2.4.0 in /usr/local/lib/python3.11/dist-packages (from chromadb) (4.0.1)\n",
            "Requirement already satisfied: typing-extensions>=4.5.0 in /usr/local/lib/python3.11/dist-packages (from chromadb) (4.13.2)\n",
            "Requirement already satisfied: onnxruntime>=1.14.1 in /usr/local/lib/python3.11/dist-packages (from chromadb) (1.22.0)\n",
            "Requirement already satisfied: opentelemetry-api>=1.2.0 in /usr/local/lib/python3.11/dist-packages (from chromadb) (1.33.0)\n",
            "Requirement already satisfied: opentelemetry-exporter-otlp-proto-grpc>=1.2.0 in /usr/local/lib/python3.11/dist-packages (from chromadb) (1.33.0)\n",
            "Requirement already satisfied: opentelemetry-instrumentation-fastapi>=0.41b0 in /usr/local/lib/python3.11/dist-packages (from chromadb) (0.54b0)\n",
            "Requirement already satisfied: opentelemetry-sdk>=1.2.0 in /usr/local/lib/python3.11/dist-packages (from chromadb) (1.33.0)\n",
            "Requirement already satisfied: tokenizers>=0.13.2 in /usr/local/lib/python3.11/dist-packages (from chromadb) (0.21.1)\n",
            "Requirement already satisfied: pypika>=0.48.9 in /usr/local/lib/python3.11/dist-packages (from chromadb) (0.48.9)\n",
            "Requirement already satisfied: tqdm>=4.65.0 in /usr/local/lib/python3.11/dist-packages (from chromadb) (4.67.1)\n",
            "Requirement already satisfied: overrides>=7.3.1 in /usr/local/lib/python3.11/dist-packages (from chromadb) (7.7.0)\n",
            "Requirement already satisfied: importlib-resources in /usr/local/lib/python3.11/dist-packages (from chromadb) (6.5.2)\n",
            "Requirement already satisfied: grpcio>=1.58.0 in /usr/local/lib/python3.11/dist-packages (from chromadb) (1.71.0)\n",
            "Requirement already satisfied: bcrypt>=4.0.1 in /usr/local/lib/python3.11/dist-packages (from chromadb) (4.3.0)\n",
            "Requirement already satisfied: typer>=0.9.0 in /usr/local/lib/python3.11/dist-packages (from chromadb) (0.15.3)\n",
            "Requirement already satisfied: kubernetes>=28.1.0 in /usr/local/lib/python3.11/dist-packages (from chromadb) (32.0.1)\n",
            "Requirement already satisfied: tenacity>=8.2.3 in /usr/local/lib/python3.11/dist-packages (from chromadb) (9.1.2)\n",
            "Requirement already satisfied: pyyaml>=6.0.0 in /usr/local/lib/python3.11/dist-packages (from chromadb) (6.0.2)\n",
            "Requirement already satisfied: mmh3>=4.0.1 in /usr/local/lib/python3.11/dist-packages (from chromadb) (5.1.0)\n",
            "Requirement already satisfied: orjson>=3.9.12 in /usr/local/lib/python3.11/dist-packages (from chromadb) (3.10.18)\n",
            "Requirement already satisfied: httpx>=0.27.0 in /usr/local/lib/python3.11/dist-packages (from chromadb) (0.28.1)\n",
            "Requirement already satisfied: rich>=10.11.0 in /usr/local/lib/python3.11/dist-packages (from chromadb) (13.9.4)\n",
            "Requirement already satisfied: jsonschema>=4.19.0 in /usr/local/lib/python3.11/dist-packages (from chromadb) (4.23.0)\n",
            "Requirement already satisfied: starlette<0.46.0,>=0.40.0 in /usr/local/lib/python3.11/dist-packages (from fastapi==0.115.9->chromadb) (0.45.3)\n",
            "Requirement already satisfied: packaging>=19.1 in /usr/local/lib/python3.11/dist-packages (from build>=1.0.3->chromadb) (24.2)\n",
            "Requirement already satisfied: pyproject_hooks in /usr/local/lib/python3.11/dist-packages (from build>=1.0.3->chromadb) (1.2.0)\n",
            "Requirement already satisfied: anyio in /usr/local/lib/python3.11/dist-packages (from httpx>=0.27.0->chromadb) (4.9.0)\n",
            "Requirement already satisfied: certifi in /usr/local/lib/python3.11/dist-packages (from httpx>=0.27.0->chromadb) (2025.4.26)\n",
            "Requirement already satisfied: httpcore==1.* in /usr/local/lib/python3.11/dist-packages (from httpx>=0.27.0->chromadb) (1.0.9)\n",
            "Requirement already satisfied: idna in /usr/local/lib/python3.11/dist-packages (from httpx>=0.27.0->chromadb) (3.10)\n",
            "Requirement already satisfied: h11>=0.16 in /usr/local/lib/python3.11/dist-packages (from httpcore==1.*->httpx>=0.27.0->chromadb) (0.16.0)\n",
            "Requirement already satisfied: attrs>=22.2.0 in /usr/local/lib/python3.11/dist-packages (from jsonschema>=4.19.0->chromadb) (25.3.0)\n",
            "Requirement already satisfied: jsonschema-specifications>=2023.03.6 in /usr/local/lib/python3.11/dist-packages (from jsonschema>=4.19.0->chromadb) (2025.4.1)\n",
            "Requirement already satisfied: referencing>=0.28.4 in /usr/local/lib/python3.11/dist-packages (from jsonschema>=4.19.0->chromadb) (0.36.2)\n",
            "Requirement already satisfied: rpds-py>=0.7.1 in /usr/local/lib/python3.11/dist-packages (from jsonschema>=4.19.0->chromadb) (0.24.0)\n",
            "Requirement already satisfied: six>=1.9.0 in /usr/local/lib/python3.11/dist-packages (from kubernetes>=28.1.0->chromadb) (1.17.0)\n",
            "Requirement already satisfied: python-dateutil>=2.5.3 in /usr/local/lib/python3.11/dist-packages (from kubernetes>=28.1.0->chromadb) (2.9.0.post0)\n",
            "Requirement already satisfied: google-auth>=1.0.1 in /usr/local/lib/python3.11/dist-packages (from kubernetes>=28.1.0->chromadb) (2.38.0)\n",
            "Requirement already satisfied: websocket-client!=0.40.0,!=0.41.*,!=0.42.*,>=0.32.0 in /usr/local/lib/python3.11/dist-packages (from kubernetes>=28.1.0->chromadb) (1.8.0)\n",
            "Requirement already satisfied: requests in /usr/local/lib/python3.11/dist-packages (from kubernetes>=28.1.0->chromadb) (2.32.3)\n",
            "Requirement already satisfied: requests-oauthlib in /usr/local/lib/python3.11/dist-packages (from kubernetes>=28.1.0->chromadb) (2.0.0)\n",
            "Requirement already satisfied: oauthlib>=3.2.2 in /usr/local/lib/python3.11/dist-packages (from kubernetes>=28.1.0->chromadb) (3.2.2)\n",
            "Requirement already satisfied: urllib3>=1.24.2 in /usr/local/lib/python3.11/dist-packages (from kubernetes>=28.1.0->chromadb) (2.4.0)\n",
            "Requirement already satisfied: durationpy>=0.7 in /usr/local/lib/python3.11/dist-packages (from kubernetes>=28.1.0->chromadb) (0.9)\n",
            "Requirement already satisfied: coloredlogs in /usr/local/lib/python3.11/dist-packages (from onnxruntime>=1.14.1->chromadb) (15.0.1)\n",
            "Requirement already satisfied: flatbuffers in /usr/local/lib/python3.11/dist-packages (from onnxruntime>=1.14.1->chromadb) (25.2.10)\n",
            "Requirement already satisfied: protobuf in /usr/local/lib/python3.11/dist-packages (from onnxruntime>=1.14.1->chromadb) (5.29.4)\n",
            "Requirement already satisfied: sympy in /usr/local/lib/python3.11/dist-packages (from onnxruntime>=1.14.1->chromadb) (1.13.1)\n",
            "Requirement already satisfied: deprecated>=1.2.6 in /usr/local/lib/python3.11/dist-packages (from opentelemetry-api>=1.2.0->chromadb) (1.2.18)\n",
            "Requirement already satisfied: importlib-metadata<8.7.0,>=6.0 in /usr/local/lib/python3.11/dist-packages (from opentelemetry-api>=1.2.0->chromadb) (8.6.1)\n",
            "Requirement already satisfied: googleapis-common-protos~=1.52 in /usr/local/lib/python3.11/dist-packages (from opentelemetry-exporter-otlp-proto-grpc>=1.2.0->chromadb) (1.70.0)\n",
            "Requirement already satisfied: opentelemetry-exporter-otlp-proto-common==1.33.0 in /usr/local/lib/python3.11/dist-packages (from opentelemetry-exporter-otlp-proto-grpc>=1.2.0->chromadb) (1.33.0)\n",
            "Requirement already satisfied: opentelemetry-proto==1.33.0 in /usr/local/lib/python3.11/dist-packages (from opentelemetry-exporter-otlp-proto-grpc>=1.2.0->chromadb) (1.33.0)\n",
            "Requirement already satisfied: opentelemetry-instrumentation-asgi==0.54b0 in /usr/local/lib/python3.11/dist-packages (from opentelemetry-instrumentation-fastapi>=0.41b0->chromadb) (0.54b0)\n",
            "Requirement already satisfied: opentelemetry-instrumentation==0.54b0 in /usr/local/lib/python3.11/dist-packages (from opentelemetry-instrumentation-fastapi>=0.41b0->chromadb) (0.54b0)\n",
            "Requirement already satisfied: opentelemetry-semantic-conventions==0.54b0 in /usr/local/lib/python3.11/dist-packages (from opentelemetry-instrumentation-fastapi>=0.41b0->chromadb) (0.54b0)\n",
            "Requirement already satisfied: opentelemetry-util-http==0.54b0 in /usr/local/lib/python3.11/dist-packages (from opentelemetry-instrumentation-fastapi>=0.41b0->chromadb) (0.54b0)\n",
            "Requirement already satisfied: wrapt<2.0.0,>=1.0.0 in /usr/local/lib/python3.11/dist-packages (from opentelemetry-instrumentation==0.54b0->opentelemetry-instrumentation-fastapi>=0.41b0->chromadb) (1.17.2)\n",
            "Requirement already satisfied: asgiref~=3.0 in /usr/local/lib/python3.11/dist-packages (from opentelemetry-instrumentation-asgi==0.54b0->opentelemetry-instrumentation-fastapi>=0.41b0->chromadb) (3.8.1)\n",
            "Requirement already satisfied: backoff>=1.10.0 in /usr/local/lib/python3.11/dist-packages (from posthog>=2.4.0->chromadb) (2.2.1)\n",
            "Requirement already satisfied: distro>=1.5.0 in /usr/local/lib/python3.11/dist-packages (from posthog>=2.4.0->chromadb) (1.9.0)\n",
            "Requirement already satisfied: annotated-types>=0.6.0 in /usr/local/lib/python3.11/dist-packages (from pydantic>=1.9->chromadb) (0.7.0)\n",
            "Requirement already satisfied: pydantic-core==2.33.2 in /usr/local/lib/python3.11/dist-packages (from pydantic>=1.9->chromadb) (2.33.2)\n",
            "Requirement already satisfied: typing-inspection>=0.4.0 in /usr/local/lib/python3.11/dist-packages (from pydantic>=1.9->chromadb) (0.4.0)\n",
            "Requirement already satisfied: markdown-it-py>=2.2.0 in /usr/local/lib/python3.11/dist-packages (from rich>=10.11.0->chromadb) (3.0.0)\n",
            "Requirement already satisfied: pygments<3.0.0,>=2.13.0 in /usr/local/lib/python3.11/dist-packages (from rich>=10.11.0->chromadb) (2.19.1)\n",
            "Requirement already satisfied: huggingface-hub<1.0,>=0.16.4 in /usr/local/lib/python3.11/dist-packages (from tokenizers>=0.13.2->chromadb) (0.31.1)\n",
            "Requirement already satisfied: click>=8.0.0 in /usr/local/lib/python3.11/dist-packages (from typer>=0.9.0->chromadb) (8.1.8)\n",
            "Requirement already satisfied: shellingham>=1.3.0 in /usr/local/lib/python3.11/dist-packages (from typer>=0.9.0->chromadb) (1.5.4)\n",
            "Requirement already satisfied: httptools>=0.6.3 in /usr/local/lib/python3.11/dist-packages (from uvicorn[standard]>=0.18.3->chromadb) (0.6.4)\n",
            "Requirement already satisfied: python-dotenv>=0.13 in /usr/local/lib/python3.11/dist-packages (from uvicorn[standard]>=0.18.3->chromadb) (1.1.0)\n",
            "Requirement already satisfied: uvloop!=0.15.0,!=0.15.1,>=0.14.0 in /usr/local/lib/python3.11/dist-packages (from uvicorn[standard]>=0.18.3->chromadb) (0.21.0)\n",
            "Requirement already satisfied: watchfiles>=0.13 in /usr/local/lib/python3.11/dist-packages (from uvicorn[standard]>=0.18.3->chromadb) (1.0.5)\n",
            "Requirement already satisfied: websockets>=10.4 in /usr/local/lib/python3.11/dist-packages (from uvicorn[standard]>=0.18.3->chromadb) (15.0.1)\n",
            "Requirement already satisfied: cachetools<6.0,>=2.0.0 in /usr/local/lib/python3.11/dist-packages (from google-auth>=1.0.1->kubernetes>=28.1.0->chromadb) (5.5.2)\n",
            "Requirement already satisfied: pyasn1-modules>=0.2.1 in /usr/local/lib/python3.11/dist-packages (from google-auth>=1.0.1->kubernetes>=28.1.0->chromadb) (0.4.2)\n",
            "Requirement already satisfied: rsa<5,>=3.1.4 in /usr/local/lib/python3.11/dist-packages (from google-auth>=1.0.1->kubernetes>=28.1.0->chromadb) (4.9.1)\n",
            "Requirement already satisfied: filelock in /usr/local/lib/python3.11/dist-packages (from huggingface-hub<1.0,>=0.16.4->tokenizers>=0.13.2->chromadb) (3.18.0)\n",
            "Requirement already satisfied: fsspec>=2023.5.0 in /usr/local/lib/python3.11/dist-packages (from huggingface-hub<1.0,>=0.16.4->tokenizers>=0.13.2->chromadb) (2025.3.2)\n",
            "Requirement already satisfied: hf-xet<2.0.0,>=1.1.0 in /usr/local/lib/python3.11/dist-packages (from huggingface-hub<1.0,>=0.16.4->tokenizers>=0.13.2->chromadb) (1.1.0)\n",
            "Requirement already satisfied: zipp>=3.20 in /usr/local/lib/python3.11/dist-packages (from importlib-metadata<8.7.0,>=6.0->opentelemetry-api>=1.2.0->chromadb) (3.21.0)\n",
            "Requirement already satisfied: mdurl~=0.1 in /usr/local/lib/python3.11/dist-packages (from markdown-it-py>=2.2.0->rich>=10.11.0->chromadb) (0.1.2)\n",
            "Requirement already satisfied: charset-normalizer<4,>=2 in /usr/local/lib/python3.11/dist-packages (from requests->kubernetes>=28.1.0->chromadb) (3.4.2)\n",
            "Requirement already satisfied: sniffio>=1.1 in /usr/local/lib/python3.11/dist-packages (from anyio->httpx>=0.27.0->chromadb) (1.3.1)\n",
            "Requirement already satisfied: humanfriendly>=9.1 in /usr/local/lib/python3.11/dist-packages (from coloredlogs->onnxruntime>=1.14.1->chromadb) (10.0)\n",
            "Requirement already satisfied: mpmath<1.4,>=1.1.0 in /usr/local/lib/python3.11/dist-packages (from sympy->onnxruntime>=1.14.1->chromadb) (1.3.0)\n",
            "Requirement already satisfied: pyasn1<0.7.0,>=0.6.1 in /usr/local/lib/python3.11/dist-packages (from pyasn1-modules>=0.2.1->google-auth>=1.0.1->kubernetes>=28.1.0->chromadb) (0.6.1)\n",
            "Requirement already satisfied: numpy in /usr/local/lib/python3.11/dist-packages (2.0.2)\n"
          ]
        }
      ],
      "source": [
        "!pip install langchain\n",
        "!pip install langchain-google-genai\n",
        "!pip install langchain-community\n",
        "!pip install chromadb\n",
        "!pip install numpy"
      ]
    },
    {
      "cell_type": "code",
      "source": [
        "import os\n",
        "import getpass\n",
        "import time\n",
        "\n",
        "# --- 1. API 키 설정 ---\n",
        "if \"GOOGLE_API_KEY\" not in os.environ:\n",
        "    # Google Colab 등 환경에서는 직접 입력 대신 환경 변수 사용 권장\n",
        "    try:\n",
        "        os.environ[\"GOOGLE_API_KEY\"] = getpass.getpass(\"Google API Key:\")\n",
        "    except Exception as e:\n",
        "        print(\"API 키를 환경 변수로 설정하거나 직접 입력해주세요.\")\n",
        "        print(f\"오류: {e}을\")\n",
        "        exit()\n",
        "\n",
        "# API 키가 설정되었는지 최종 확인\n",
        "if not os.getenv(\"GOOGLE_API_KEY\"):\n",
        "    print(\"오류: GOOGLE_API_KEY가 설정되지 않았습니다.\")\n",
        "    exit()\n",
        "else:\n",
        "    print(\"✅ Google API Key 설정 확인\")"
      ],
      "metadata": {
        "colab": {
          "base_uri": "https://localhost:8080/"
        },
        "id": "b7SjgpGJGL1L",
        "outputId": "2726dce5-f80f-495d-cda3-7c8c0825eea4"
      },
      "execution_count": null,
      "outputs": [
        {
          "output_type": "stream",
          "name": "stdout",
          "text": [
            "✅ Google API Key 설정 확인\n"
          ]
        }
      ]
    },
    {
      "cell_type": "code",
      "source": [
        "# --- 2. Langchain 관련 모듈 임포트 ---\n",
        "from langchain_google_genai import GoogleGenerativeAIEmbeddings, ChatGoogleGenerativeAI\n",
        "from langchain_community.vectorstores import Chroma\n",
        "from langchain.text_splitter import RecursiveCharacterTextSplitter\n",
        "from langchain.schema import Document\n",
        "from langchain.prompts import ChatPromptTemplate\n",
        "from langchain.schema.runnable import RunnablePassthrough, RunnableParallel\n",
        "from langchain.schema.output_parser import StrOutputParser\n",
        "\n",
        "print(\"✅ Langchain 모듈 임포트 완료\")"
      ],
      "metadata": {
        "colab": {
          "base_uri": "https://localhost:8080/"
        },
        "id": "NWNbrUMEGLy7",
        "outputId": "38fc19ae-904c-4816-fbf2-fb679aafab15"
      },
      "execution_count": null,
      "outputs": [
        {
          "output_type": "stream",
          "name": "stdout",
          "text": [
            "✅ Langchain 모듈 임포트 완료\n"
          ]
        }
      ]
    },
    {
      "cell_type": "code",
      "source": [
        "# --- 3. 실제 청년 정책 데이터 준비 (예시) ---\n",
        "# 출처: 웹 검색 정보 요약 (실제 신청 시 공식 공고 확인 필수!)\n",
        "raw_documents = [\n",
        "    {\n",
        "        \"id\": \"policy_doyak\",\n",
        "        \"source\": \"온통청년 등 정부 웹사이트 (예시)\",\n",
        "        \"text\": \"\"\"\n",
        "        청년도약계좌는 청년의 중장기 자산 형성을 지원하기 위한 정책형 금융상품입니다.\n",
        "        만 19세 이상 만 34세 이하 청년 중 개인소득(총급여 기준 7,500만원 이하) 및 가구소득(중위소득 180% 이하) 기준을 충족하면 가입할 수 있습니다.\n",
        "        매월 70만원 한도 내에서 자유롭게 납입하면 정부가 월 최대 2만 4천원의 기여금을 지원하고, 이자소득에 비과세 혜택을 제공합니다.\n",
        "        가입 기간은 5년 만기이며, 만기 시에는 시중은행 예적금 금리보다 높은 수준의 수익을 기대할 수 있습니다.\n",
        "        가입 신청은 취급 은행 앱을 통해 가능하며, 가입 요건 충족 여부 확인 후 계좌 개설이 진행됩니다.\n",
        "        \"\"\"\n",
        "    },\n",
        "    {\n",
        "        \"id\": \"policy_naeil\",\n",
        "        \"source\": \"고용노동부 내일채움공제 웹사이트 (예시)\",\n",
        "        \"text\": \"\"\"\n",
        "        청년내일채움공제는 중소·중견기업에 정규직으로 취업한 청년들의 장기근속과 목돈 마련을 지원하는 사업입니다.\n",
        "        지원 대상은 만 15세 이상 34세 이하의 청년으로, 중소·중견기업에 정규직으로 취업하여 고용보험에 가입되어 있어야 합니다. (일부 학력, 소득 요건 존재 가능)\n",
        "        청년이 2년간 매월 12만 5천원(총 300만원)을 적립하면, 정부와 기업이 함께 지원하여 만기 시 총 1,200만원(+이자)의 목돈을 마련할 수 있습니다. (기업 규모 등에 따라 유형 다름)\n",
        "        신청은 워크넷-내일채움공제 누리집에서 온라인으로 신청하며, 청약 신청까지 완료해야 합니다.\n",
        "        주의할 점은 생애 1회만 지원 가능하며, 정해진 기간 내에 신청해야 한다는 것입니다.\n",
        "        \"\"\"\n",
        "    },\n",
        "    {\n",
        "        \"id\": \"policy_housing_seoul\",\n",
        "        \"source\": \"서울주거포털 (예시)\",\n",
        "        \"text\": \"\"\"\n",
        "        서울시 청년월세지원은 높은 주거비로 어려움을 겪는 서울 거주 청년들의 주거 안정을 돕기 위한 사업입니다.\n",
        "        지원 대상은 서울시에 주민등록이 되어 있는 만 19세 ~ 39세 이하 청년 1인 가구로, 기준중위소득 150% 이하 요건을 충족해야 합니다.\n",
        "        또한, 임차보증금 5천만원 이하 및 월세 60만원 이하의 건물에 월세로 거주하는 무주택자여야 합니다.\n",
        "        선정된 청년에게는 월 20만원의 월세를 최대 12개월(240만원)까지 지원합니다.\n",
        "        신청은 서울주거포털에서 온라인으로 접수하며, 소득 및 재산 기준 심사를 거쳐 대상자를 선정합니다. 매년 모집 시기와 세부 기준이 달라질 수 있으니 공고를 확인해야 합니다.\n",
        "        \"\"\"\n",
        "    },\n",
        "    {\n",
        "        \"id\": \"general_support_info\",\n",
        "        \"source\": \"온통청년, 복지로 등 (예시)\",\n",
        "        \"text\": \"\"\"\n",
        "        정부와 지자체는 청년들의 자립과 성장을 돕기 위해 다양한 지원 정책을 펼치고 있습니다.\n",
        "        주요 분야로는 일자리(취업 지원, 창업 지원), 주거(주택 구입/전세자금 대출 지원, 월세 지원), 교육(학자금 대출 지원, 역량 강화 프로그램), 복지·문화(청년수당, 문화생활 지원), 참여·권리(청년 정책 참여 기회 확대) 등이 있습니다.\n",
        "        '온통청년' 웹사이트나 '복지로' 웹사이트에서 자신에게 맞는 정책을 검색하고 상세 정보를 확인할 수 있습니다.\n",
        "        각 정책마다 지원 대상, 조건, 신청 방법 등이 다르므로 반드시 공식 공고를 꼼꼼히 확인하는 것이 중요합니다.\n",
        "        \"\"\"\n",
        "    }\n",
        "]\n",
        "\n",
        "# Langchain Document 객체로 변환 (메타데이터에 출처 추가)\n",
        "documents = [Document(page_content=doc['text'], metadata={'id': doc['id'], 'source': doc['source']}) for doc in raw_documents]\n",
        "print(f\"📚 총 {len(documents)}개의 실제 정책 정보 Document 준비 완료\")"
      ],
      "metadata": {
        "colab": {
          "base_uri": "https://localhost:8080/"
        },
        "id": "S4bhaiByGLv7",
        "outputId": "1dd97f87-5731-4b73-9213-de52a00b25b8"
      },
      "execution_count": null,
      "outputs": [
        {
          "output_type": "stream",
          "name": "stdout",
          "text": [
            "📚 총 4개의 실제 정책 정보 Document 준비 완료\n"
          ]
        }
      ]
    },
    {
      "cell_type": "code",
      "source": [
        "# --- 4. 문서 분할 (Text Splitting) ---\n",
        "# 정책 내용이 길 수 있으므로 청크 크기를 적절히 조절\n",
        "text_splitter = RecursiveCharacterTextSplitter(chunk_size=110, chunk_overlap=100)\n",
        "split_documents = text_splitter.split_documents(documents)\n",
        "print(f\"✂️ 문서를 {len(split_documents)}개의 청크로 분할 완료\")\n",
        "print(f\"샘플 청크 (첫 번째): {split_documents[0].page_content}\") # 분할된 내용 확인 (옵션)"
      ],
      "metadata": {
        "colab": {
          "base_uri": "https://localhost:8080/"
        },
        "id": "Q3VieJyBGLtD",
        "outputId": "951840ac-98d0-47b5-beba-cea4bcd17252"
      },
      "execution_count": null,
      "outputs": [
        {
          "output_type": "stream",
          "name": "stdout",
          "text": [
            "✂️ 문서를 24개의 청크로 분할 완료\n",
            "샘플 청크 (첫 번째): 청년도약계좌는 청년의 중장기 자산 형성을 지원하기 위한 정책형 금융상품입니다.\n"
          ]
        }
      ]
    },
    {
      "cell_type": "code",
      "source": [
        "# --- 5. 임베딩 모델 초기화 (Gemini) ---\n",
        "embedding_model = GoogleGenerativeAIEmbeddings(model=\"models/text-embedding-004\", task_type=\"retrieval_document\")\n",
        "print(f\"🤖 임베딩 모델 ({embedding_model.model}) 초기화 완료\")"
      ],
      "metadata": {
        "colab": {
          "base_uri": "https://localhost:8080/"
        },
        "id": "JRukrPfBGLqK",
        "outputId": "54e5809d-a6eb-42b5-940a-dadb1f939668"
      },
      "execution_count": null,
      "outputs": [
        {
          "output_type": "stream",
          "name": "stdout",
          "text": [
            "🤖 임베딩 모델 (models/text-embedding-004) 초기화 완료\n"
          ]
        }
      ]
    },
    {
      "cell_type": "code",
      "source": [
        "# --- 6. 벡터 저장소 설정 (ChromaDB) 및 문서 저장 ---\n",
        "print(\"💾 벡터 저장소(ChromaDB) 설정 및 문서 임베딩/저장 중...\")\n",
        "start_time = time.time()\n",
        "vectorstore = Chroma.from_documents(\n",
        "    documents=split_documents,\n",
        "    embedding=embedding_model,\n",
        "    collection_name=\"youth_policy_rag_real\" # 컬렉션 이름 변경\n",
        "    # persist_directory=\"./chroma_db_policy\" # 영구 저장을 원할 경우\n",
        ")\n",
        "end_time = time.time()\n",
        "print(f\"✅ 벡터 저장소에 문서 저장 완료 (소요 시간: {end_time - start_time:.2f}초)\")"
      ],
      "metadata": {
        "colab": {
          "base_uri": "https://localhost:8080/"
        },
        "id": "MNqd5O7oGLnT",
        "outputId": "02b6c1d2-33cc-481e-c32e-b184d47221eb"
      },
      "execution_count": null,
      "outputs": [
        {
          "output_type": "stream",
          "name": "stdout",
          "text": [
            "💾 벡터 저장소(ChromaDB) 설정 및 문서 임베딩/저장 중...\n",
            "✅ 벡터 저장소에 문서 저장 완료 (소요 시간: 0.53초)\n"
          ]
        }
      ]
    },
    {
      "cell_type": "code",
      "source": [
        "# --- 7. 검색기(Retriever) 생성 ---\n",
        "retriever = vectorstore.as_retriever(search_kwargs={'k': 2}) # 상위 1개 청크 검색\n",
        "print(f\"🔍 검색기(Retriever) 생성 완료 (k={retriever.search_kwargs['k']})\")"
      ],
      "metadata": {
        "colab": {
          "base_uri": "https://localhost:8080/"
        },
        "id": "g7uT9QJoGLhT",
        "outputId": "215e6036-43b8-431c-a174-173997498628"
      },
      "execution_count": null,
      "outputs": [
        {
          "output_type": "stream",
          "name": "stdout",
          "text": [
            "🔍 검색기(Retriever) 생성 완료 (k=2)\n"
          ]
        }
      ]
    },
    {
      "cell_type": "code",
      "source": [
        "# --- 8. LLM 초기화 (Gemini) ---\n",
        "# safety_settings에 사용할 Enum 타입 임포트\n",
        "from google.generativeai.types import HarmCategory, HarmBlockThreshold\n",
        "\n",
        "print(\"🔧 LLM 초기화 준비 중... safety settings 설정 적용\")\n",
        "\n",
        "try:\n",
        "    llm = ChatGoogleGenerativeAI(\n",
        "        model=\"gemini-2.0-flash\",\n",
        "        temperature=0, # 약간의 유연성 부여\n",
        "        convert_system_message_to_human=True,\n",
        "        # safety_settings를 Enum 타입을 사용하여 정의\n",
        "        safety_settings={\n",
        "            HarmCategory.HARM_CATEGORY_HARASSMENT: HarmBlockThreshold.BLOCK_NONE,\n",
        "            HarmCategory.HARM_CATEGORY_HATE_SPEECH: HarmBlockThreshold.BLOCK_NONE,\n",
        "            HarmCategory.HARM_CATEGORY_SEXUALLY_EXPLICIT: HarmBlockThreshold.BLOCK_NONE,\n",
        "            HarmCategory.HARM_CATEGORY_DANGEROUS_CONTENT: HarmBlockThreshold.BLOCK_NONE,\n",
        "        }\n",
        "    )\n",
        "    print(f\"💡 LLM ({llm.model}) 초기화 완료 (Enum 기반 safety settings 적용)\")\n",
        "except ImportError:\n",
        "    print(\"⚠️ 경고: 'google.generativeai.types'에서 Enum을 임포트할 수 없습니다.\")\n",
        "    print(\"   'pip install google-generativeai'가 제대로 설치되었는지 확인하세요.\")\n",
        "    print(\"   safety_settings 없이 LLM을 초기화합니다 (기본 설정 사용).\")\n",
        "    llm = ChatGoogleGenerativeAI(\n",
        "        model=\"gemini-2.0-flash\",\n",
        "        temperature=0,\n",
        "        convert_system_message_to_human=True\n",
        "    )\n",
        "    print(f\"💡 LLM ({llm.model}) 초기화 완료 (기본 safety settings 사용)\")\n",
        "except Exception as e:\n",
        "    print(f\"❌ LLM 초기화 중 예상치 못한 오류 발생: {e}\")\n",
        "    # 오류 발생 시 LLM 객체를 None으로 설정하거나, 기본값으로 재시도 고려\n",
        "    llm = None # 또는 기본값 LLM으로 대체\n",
        "    print(\"LLM 초기화 실패. 이후 단계에서 오류가 발생할 수 있습니다.\")\n",
        "\n",
        "\n",
        "# LLM 객체가 성공적으로 생성되었는지 확인 (선택적)\n",
        "if llm is None:\n",
        "    print(\"⛔ LLM 초기화에 실패하여 프로그램을 종료합니다.\")\n",
        "    exit()"
      ],
      "metadata": {
        "colab": {
          "base_uri": "https://localhost:8080/"
        },
        "id": "jl4OY5_iGLaT",
        "outputId": "46555d1d-90d1-4b3d-a672-f7521c2e7e94"
      },
      "execution_count": null,
      "outputs": [
        {
          "output_type": "stream",
          "name": "stdout",
          "text": [
            "🔧 LLM 초기화 준비 중... safety settings 설정 적용\n",
            "💡 LLM (models/gemini-2.0-flash) 초기화 완료 (Enum 기반 safety settings 적용)\n"
          ]
        }
      ]
    },
    {
      "cell_type": "code",
      "source": [
        "# --- 9. 프롬프트 템플릿 정의 ---\n",
        "prompt_template = \"\"\"당신은 대한민국 청년 지원 정책 전문가입니다.\n",
        "다음은 사용자의 질문과 관련된 정책 정보입니다. 이 정보를 바탕으로 사용자의 질문에 대해 친절하고 명확하게 한국어로 답변해주세요.\n",
        "답변은 반드시 주어진 관련 문서 내용에 근거해야 합니다. 관련된 내용이 없다면, \"제공된 정보만으로는 정확히 답변하기 어렵습니다. 온통청년 웹사이트 등 공식 정보를 확인해보세요.\" 라고 답변해주세요.\n",
        "\n",
        "[사용자 질문]\n",
        "\n",
        "{question}\n",
        "\n",
        "[답변]\n",
        "\"\"\"\n",
        "prompt = ChatPromptTemplate.from_template(prompt_template)\n",
        "print(\"📝 프롬프트 템플릿 정의 완료\")"
      ],
      "metadata": {
        "colab": {
          "base_uri": "https://localhost:8080/"
        },
        "id": "4VQfE9kMGLR7",
        "outputId": "dce748fe-dfd8-498a-b8a6-ffe1e2b41eb0"
      },
      "execution_count": null,
      "outputs": [
        {
          "output_type": "stream",
          "name": "stdout",
          "text": [
            "📝 프롬프트 템플릿 정의 완료\n"
          ]
        }
      ]
    },
    {
      "cell_type": "code",
      "source": [
        "# --- 10. RAG 체인(Chain) 구성 (LCEL 사용) ---\n",
        "def format_docs(docs):\n",
        "    \"\"\"검색된 Document 리스트를 문맥 문자열로 변환\"\"\"\n",
        "    return \"\\n\\n\".join(f\"출처: {doc.metadata.get('source', '알 수 없음')}\\n내용: {doc.page_content}\" for doc in docs)\n",
        "\n",
        "# LCEL을 사용한 RAG 체인 구성\n",
        "rag_chain = (\n",
        "    RunnableParallel(\n",
        "        # 질문을 기반으로 관련 문서를 검색하고 format_docs로 형식화\n",
        "        context=retriever.pipe(format_docs),\n",
        "        # 원본 질문 전달\n",
        "        question=RunnablePassthrough()\n",
        "    )\n",
        "    | prompt\n",
        "    | llm\n",
        "    | StrOutputParser()\n",
        ")\n",
        "print(\"🔗 RAG 체인 구성 완료\")"
      ],
      "metadata": {
        "colab": {
          "base_uri": "https://localhost:8080/"
        },
        "id": "ckqO_MZLN1Mz",
        "outputId": "2d71c98a-fc53-48ba-dfbf-9b06ebab92a2"
      },
      "execution_count": null,
      "outputs": [
        {
          "output_type": "stream",
          "name": "stdout",
          "text": [
            "🔗 RAG 체인 구성 완료\n"
          ]
        }
      ]
    },
    {
      "cell_type": "code",
      "source": [
        "# --- 11. RAG 시스템 실행 및 결과 확인 함수 ---\n",
        "def ask_policy_expert(query: str):\n",
        "    \"\"\"청년 정책 질문에 대해 RAG 체인을 실행하고 답변과 검색된 문서를 출력합니다.\"\"\"\n",
        "    print(f\"\\n❓ 사용자 질문: {query}\")\n",
        "    print(\"⏳ 정책 정보 검색 및 답변 생성 중...\")\n",
        "\n",
        "    start_time = time.time()\n",
        "    # 검색 과정만 별도로 확인 (디버깅/이해 목적)\n",
        "    try:\n",
        "        retrieved_docs = retriever.invoke(query)\n",
        "        print(\"\\n📄 검색된 관련 문서 청크:\")\n",
        "        if retrieved_docs:\n",
        "            for i, doc in enumerate(retrieved_docs):\n",
        "                print(f\"--- 문서 {i+1} (출처: {doc.metadata.get('source', '알 수 없음')}) ---\")\n",
        "                print(f\"{doc.page_content[:200]}...\") # 내용 일부 출력\n",
        "                print(\"-\" * (len(f\"--- 문서 {i+1} ---\") + len(doc.metadata.get('source', '알 수 없음'))+ 6))\n",
        "        else:\n",
        "            print(\"관련 문서를 찾지 못했습니다.\")\n",
        "    except Exception as e:\n",
        "        print(f\"문서 검색 중 오류 발생: {e}\")\n",
        "        retrieved_docs = [] # 오류 시 빈 리스트로 처리\n",
        "\n",
        "    # 전체 RAG 체인 실행\n",
        "    try:\n",
        "        answer = rag_chain.invoke(query)\n",
        "        end_time = time.time()\n",
        "        print(f\"\\n💬 생성된 답변 (소요 시간: {end_time - start_time:.2f}초):\")\n",
        "        print(answer)\n",
        "        return answer\n",
        "    except Exception as e:\n",
        "        end_time = time.time()\n",
        "        print(f\"\\n❌ 답변 생성 중 오류 발생 (소요 시간: {end_time - start_time:.2f}초): {e}\")\n",
        "        # Gemini API 관련 상세 오류 피드백 확인\n",
        "        if hasattr(e, 'response') and hasattr(e.response, 'prompt_feedback'):\n",
        "             print(f\"   - Prompt Feedback: {e.response.prompt_feedback}\")\n",
        "        if hasattr(e, 'response') and hasattr(e.response, 'candidates') and e.response.candidates:\n",
        "             print(f\"   - Finish Reason: {e.response.candidates[0].finish_reason}\")\n",
        "             print(f\"   - Safety Ratings: {e.response.candidates[0].safety_ratings}\")\n",
        "        return \"답변 생성 중 오류가 발생했습니다.\"\n"
      ],
      "metadata": {
        "id": "QLh2It8EN1FM"
      },
      "execution_count": null,
      "outputs": []
    },
    {
      "cell_type": "code",
      "source": [
        "# --- 12. 테스트 ---\n",
        "if __name__ == \"__main__\":\n",
        "    print(\"\\n\\n--- 실제 청년 정책 정보 기반 RAG 시스템 테스트 ---\")\n",
        "\n",
        "    ask_policy_expert(\"청년도약계좌 만들려면 소득 조건이 어떻게 돼?\")\n",
        "    ask_policy_expert(\"청년내일채움공제는 누가 신청할 수 있나요?\")\n",
        "    ask_policy_expert(\"서울에 사는 청년인데 월세 지원 받을 수 있을까?\")\n",
        "    ask_policy_expert(\"청년들을 위한 정책은 어떤 종류가 있나요?\")\n",
        "    ask_policy_expert(\"청년내일채움공제 만기되면 얼마 받아요?\")\n",
        "    ask_policy_expert(\"자동차 구매 지원 정책 알려줘\") # 관련 없는 질문\n",
        "\n",
        "    # ChromaDB 영구 저장을 사용했을 경우 정리 (필요 시 주석 해제)\n",
        "    # try:\n",
        "    #     print(\"\\n🧹 컬렉션 삭제 시도...\")\n",
        "    #     vectorstore.delete_collection()\n",
        "    #     print(\"✅ 컬렉션 삭제 완료.\")\n",
        "    # except Exception as e:\n",
        "    #     print(f\"컬렉션 삭제 중 오류 발생 (이미 삭제되었거나 권한 문제일 수 있음): {e}\")"
      ],
      "metadata": {
        "colab": {
          "base_uri": "https://localhost:8080/"
        },
        "id": "M-5Nl4BDN09j",
        "outputId": "d9005a3c-66ab-4a9f-d289-a9bd7f99f64d"
      },
      "execution_count": null,
      "outputs": [
        {
          "output_type": "stream",
          "name": "stdout",
          "text": [
            "\n",
            "\n",
            "--- 실제 청년 정책 정보 기반 RAG 시스템 테스트 ---\n",
            "\n",
            "❓ 사용자 질문: 청년도약계좌 만들려면 소득 조건이 어떻게 돼?\n",
            "⏳ 정책 정보 검색 및 답변 생성 중...\n",
            "\n",
            "📄 검색된 관련 문서 청크:\n",
            "--- 문서 1 (출처: 온통청년 등 정부 웹사이트 (예시)) ---\n",
            "청년도약계좌는 청년의 중장기 자산 형성을 지원하기 위한 정책형 금융상품입니다....\n",
            "-------------------------------------\n",
            "--- 문서 2 (출처: 온통청년 등 정부 웹사이트 (예시)) ---\n",
            "청년도약계좌는 청년의 중장기 자산 형성을 지원하기 위한 정책형 금융상품입니다....\n",
            "-------------------------------------\n"
          ]
        },
        {
          "output_type": "stream",
          "name": "stderr",
          "text": [
            "/usr/local/lib/python3.11/dist-packages/langchain_google_genai/chat_models.py:390: UserWarning: Convert_system_message_to_human will be deprecated!\n",
            "  warnings.warn(\"Convert_system_message_to_human will be deprecated!\")\n"
          ]
        },
        {
          "output_type": "stream",
          "name": "stdout",
          "text": [
            "\n",
            "💬 생성된 답변 (소요 시간: 1.05초):\n",
            "청년도약계좌를 만들려면 소득 조건이 어떻게 되는지 궁금하시군요. 제공된 정보만으로는 정확히 답변하기 어렵습니다. 온통청년 웹사이트 등 공식 정보를 확인해보세요.\n",
            "\n",
            "❓ 사용자 질문: 청년내일채움공제는 누가 신청할 수 있나요?\n",
            "⏳ 정책 정보 검색 및 답변 생성 중...\n",
            "\n",
            "📄 검색된 관련 문서 청크:\n",
            "--- 문서 1 (출처: 온통청년 등 정부 웹사이트 (예시)) ---\n",
            "청년도약계좌는 청년의 중장기 자산 형성을 지원하기 위한 정책형 금융상품입니다....\n",
            "-------------------------------------\n",
            "--- 문서 2 (출처: 온통청년 등 정부 웹사이트 (예시)) ---\n",
            "청년도약계좌는 청년의 중장기 자산 형성을 지원하기 위한 정책형 금융상품입니다....\n",
            "-------------------------------------\n"
          ]
        },
        {
          "output_type": "stream",
          "name": "stderr",
          "text": [
            "/usr/local/lib/python3.11/dist-packages/langchain_google_genai/chat_models.py:390: UserWarning: Convert_system_message_to_human will be deprecated!\n",
            "  warnings.warn(\"Convert_system_message_to_human will be deprecated!\")\n"
          ]
        },
        {
          "output_type": "stream",
          "name": "stdout",
          "text": [
            "\n",
            "💬 생성된 답변 (소요 시간: 0.98초):\n",
            "제공된 정보만으로는 청년내일채움공제 신청 자격에 대해 정확히 답변하기 어렵습니다. 온통청년 웹사이트 등 공식 정보를 확인해보세요.\n",
            "\n",
            "❓ 사용자 질문: 서울에 사는 청년인데 월세 지원 받을 수 있을까?\n",
            "⏳ 정책 정보 검색 및 답변 생성 중...\n",
            "\n",
            "📄 검색된 관련 문서 청크:\n",
            "--- 문서 1 (출처: 온통청년 등 정부 웹사이트 (예시)) ---\n",
            "청년도약계좌는 청년의 중장기 자산 형성을 지원하기 위한 정책형 금융상품입니다....\n",
            "-------------------------------------\n",
            "--- 문서 2 (출처: 온통청년 등 정부 웹사이트 (예시)) ---\n",
            "청년도약계좌는 청년의 중장기 자산 형성을 지원하기 위한 정책형 금융상품입니다....\n",
            "-------------------------------------\n"
          ]
        },
        {
          "output_type": "stream",
          "name": "stderr",
          "text": [
            "/usr/local/lib/python3.11/dist-packages/langchain_google_genai/chat_models.py:390: UserWarning: Convert_system_message_to_human will be deprecated!\n",
            "  warnings.warn(\"Convert_system_message_to_human will be deprecated!\")\n"
          ]
        },
        {
          "output_type": "stream",
          "name": "stdout",
          "text": [
            "\n",
            "💬 생성된 답변 (소요 시간: 0.86초):\n",
            "제공된 정보만으로는 서울에 사는 청년이 월세 지원을 받을 수 있는지 정확히 답변하기 어렵습니다. 온통청년 웹사이트 등 공식 정보를 확인해보세요.\n",
            "\n",
            "❓ 사용자 질문: 청년들을 위한 정책은 어떤 종류가 있나요?\n",
            "⏳ 정책 정보 검색 및 답변 생성 중...\n",
            "\n",
            "📄 검색된 관련 문서 청크:\n",
            "--- 문서 1 (출처: 온통청년 등 정부 웹사이트 (예시)) ---\n",
            "청년도약계좌는 청년의 중장기 자산 형성을 지원하기 위한 정책형 금융상품입니다....\n",
            "-------------------------------------\n",
            "--- 문서 2 (출처: 온통청년 등 정부 웹사이트 (예시)) ---\n",
            "청년도약계좌는 청년의 중장기 자산 형성을 지원하기 위한 정책형 금융상품입니다....\n",
            "-------------------------------------\n"
          ]
        },
        {
          "output_type": "stream",
          "name": "stderr",
          "text": [
            "/usr/local/lib/python3.11/dist-packages/langchain_google_genai/chat_models.py:390: UserWarning: Convert_system_message_to_human will be deprecated!\n",
            "  warnings.warn(\"Convert_system_message_to_human will be deprecated!\")\n"
          ]
        },
        {
          "output_type": "stream",
          "name": "stdout",
          "text": [
            "\n",
            "💬 생성된 답변 (소요 시간: 1.17초):\n",
            "제공된 정보가 없어 답변이 어렵습니다. 온통청년 웹사이트 등 공식 정보를 확인해보세요.\n",
            "\n",
            "❓ 사용자 질문: 청년내일채움공제 만기되면 얼마 받아요?\n",
            "⏳ 정책 정보 검색 및 답변 생성 중...\n",
            "\n",
            "📄 검색된 관련 문서 청크:\n",
            "--- 문서 1 (출처: 온통청년 등 정부 웹사이트 (예시)) ---\n",
            "청년도약계좌는 청년의 중장기 자산 형성을 지원하기 위한 정책형 금융상품입니다....\n",
            "-------------------------------------\n",
            "--- 문서 2 (출처: 온통청년 등 정부 웹사이트 (예시)) ---\n",
            "청년도약계좌는 청년의 중장기 자산 형성을 지원하기 위한 정책형 금융상품입니다....\n",
            "-------------------------------------\n"
          ]
        },
        {
          "output_type": "stream",
          "name": "stderr",
          "text": [
            "/usr/local/lib/python3.11/dist-packages/langchain_google_genai/chat_models.py:390: UserWarning: Convert_system_message_to_human will be deprecated!\n",
            "  warnings.warn(\"Convert_system_message_to_human will be deprecated!\")\n"
          ]
        },
        {
          "output_type": "stream",
          "name": "stdout",
          "text": [
            "\n",
            "💬 생성된 답변 (소요 시간: 1.98초):\n",
            "제공된 정보만으로는 청년내일채움공제 만기 시 수령액을 정확히 답변하기 어렵습니다. 온통청년 웹사이트 등 공식 정보를 확인해보세요.\n",
            "\n",
            "❓ 사용자 질문: 자동차 구매 지원 정책 알려줘\n",
            "⏳ 정책 정보 검색 및 답변 생성 중...\n",
            "\n",
            "📄 검색된 관련 문서 청크:\n",
            "--- 문서 1 (출처: 고용노동부 내일채움공제 웹사이트 (예시)) ---\n",
            "청년내일채움공제는 중소·중견기업에 정규직으로 취업한 청년들의 장기근속과 목돈 마련을 지원하는 사업입니다....\n",
            "----------------------------------------\n",
            "--- 문서 2 (출처: 고용노동부 내일채움공제 웹사이트 (예시)) ---\n",
            "청년내일채움공제는 중소·중견기업에 정규직으로 취업한 청년들의 장기근속과 목돈 마련을 지원하는 사업입니다....\n",
            "----------------------------------------\n"
          ]
        },
        {
          "output_type": "stream",
          "name": "stderr",
          "text": [
            "/usr/local/lib/python3.11/dist-packages/langchain_google_genai/chat_models.py:390: UserWarning: Convert_system_message_to_human will be deprecated!\n",
            "  warnings.warn(\"Convert_system_message_to_human will be deprecated!\")\n"
          ]
        },
        {
          "output_type": "stream",
          "name": "stdout",
          "text": [
            "\n",
            "💬 생성된 답변 (소요 시간: 1.50초):\n",
            "제공된 정보만으로는 자동차 구매 지원 정책에 대해 정확히 답변하기 어렵습니다. 온통청년 웹사이트 등 공식 정보를 확인해보세요.\n"
          ]
        }
      ]
    },
    {
      "cell_type": "code",
      "source": [
        "ask_policy_expert(\"서울시 청년월세지원의 지원대상에 대해서만 알려줘\")"
      ],
      "metadata": {
        "colab": {
          "base_uri": "https://localhost:8080/",
          "height": 605
        },
        "id": "vM2wMkIvN00s",
        "outputId": "346e6e5b-0d59-417c-caca-919de61e53a8"
      },
      "execution_count": null,
      "outputs": [
        {
          "output_type": "stream",
          "name": "stdout",
          "text": [
            "\n",
            "❓ 사용자 질문: 서울시 청년월세지원의 지원대상에 대해서만 알려줘\n",
            "⏳ 정책 정보 검색 및 답변 생성 중...\n",
            "\n",
            "📄 검색된 관련 문서 청크:\n",
            "--- 문서 1 (출처: 고용노동부 내일채움공제 웹사이트 (예시)) ---\n",
            "청년내일채움공제는 중소·중견기업에 정규직으로 취업한 청년들의 장기근속과 목돈 마련을 지원하는 사업입니다....\n",
            "----------------------------------------\n",
            "--- 문서 2 (출처: 온통청년 등 정부 웹사이트 (예시)) ---\n",
            "청년도약계좌는 청년의 중장기 자산 형성을 지원하기 위한 정책형 금융상품입니다....\n",
            "-------------------------------------\n",
            "--- 문서 3 (출처: 온통청년, 복지로 등 (예시)) ---\n",
            "정부와 지자체는 청년들의 자립과 성장을 돕기 위해 다양한 지원 정책을 펼치고 있습니다....\n",
            "----------------------------------\n"
          ]
        },
        {
          "output_type": "stream",
          "name": "stderr",
          "text": [
            "/usr/local/lib/python3.11/dist-packages/langchain_google_genai/chat_models.py:390: UserWarning: Convert_system_message_to_human will be deprecated!\n",
            "  warnings.warn(\"Convert_system_message_to_human will be deprecated!\")\n"
          ]
        },
        {
          "output_type": "stream",
          "name": "stdout",
          "text": [
            "\n",
            "💬 생성된 답변 (소요 시간: 2.90초):\n",
            "서울시 청년월세지원 사업의 지원 대상은 다음과 같습니다.\n",
            "\n",
            "*   **소득 기준:** 신청일 기준 **본인** 가구의 기준 중위소득이 60% 이하이고, **최종 학력**을 기준으로 신청 연도에 따라 상이한 소득 기준을 충족해야 합니다. (구체적인 소득 기준은 매년 사업 공고 시 확인 필요)\n",
            "*   **나이 기준:** 만 19세 ~ 39세 이하의 청년\n",
            "*   **주거 기준:** 서울시에 거주하며, 임차보증금 5천만원 이하 및 월세 40만원 이하의 건물에 거주하는 무주택자 (단, 월세 40만원 초과 시에는 월세와 보증금 환산액을 합산한 금액이 70만원 이하인 경우도 가능)\n",
            "\n",
            "**주의사항:**\n",
            "\n",
            "*   자세한 소득 기준 및 기타 자격 요건은 매년 서울시에서 발표하는 청년월세지원 사업 공고를 통해 확인해야 합니다.\n",
            "*   제공된 정보는 일반적인 내용이며, 실제 신청 시에는 반드시 최신 공고를 참고하여 정확한 자격 요건을 확인하시기 바랍니다.\n"
          ]
        },
        {
          "output_type": "execute_result",
          "data": {
            "text/plain": [
              "'서울시 청년월세지원 사업의 지원 대상은 다음과 같습니다.\\n\\n*   **소득 기준:** 신청일 기준 **본인** 가구의 기준 중위소득이 60% 이하이고, **최종 학력**을 기준으로 신청 연도에 따라 상이한 소득 기준을 충족해야 합니다. (구체적인 소득 기준은 매년 사업 공고 시 확인 필요)\\n*   **나이 기준:** 만 19세 ~ 39세 이하의 청년\\n*   **주거 기준:** 서울시에 거주하며, 임차보증금 5천만원 이하 및 월세 40만원 이하의 건물에 거주하는 무주택자 (단, 월세 40만원 초과 시에는 월세와 보증금 환산액을 합산한 금액이 70만원 이하인 경우도 가능)\\n\\n**주의사항:**\\n\\n*   자세한 소득 기준 및 기타 자격 요건은 매년 서울시에서 발표하는 청년월세지원 사업 공고를 통해 확인해야 합니다.\\n*   제공된 정보는 일반적인 내용이며, 실제 신청 시에는 반드시 최신 공고를 참고하여 정확한 자격 요건을 확인하시기 바랍니다.'"
            ],
            "application/vnd.google.colaboratory.intrinsic+json": {
              "type": "string"
            }
          },
          "metadata": {},
          "execution_count": 62
        }
      ]
    }
  ]
}
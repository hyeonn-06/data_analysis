{
  "nbformat": 4,
  "nbformat_minor": 0,
  "metadata": {
    "colab": {
      "provenance": [],
      "authorship_tag": "ABX9TyO2DPlUC/utyG4VK4OeVaJf",
      "include_colab_link": true
    },
    "kernelspec": {
      "name": "python3",
      "display_name": "Python 3"
    },
    "language_info": {
      "name": "python"
    }
  },
  "cells": [
    {
      "cell_type": "markdown",
      "metadata": {
        "id": "view-in-github",
        "colab_type": "text"
      },
      "source": [
        "<a href=\"https://colab.research.google.com/github/hyeonn-06/data_analysis/blob/main/ch1.ipynb\" target=\"_parent\"><img src=\"https://colab.research.google.com/assets/colab-badge.svg\" alt=\"Open In Colab\"/></a>"
      ]
    },
    {
      "cell_type": "code",
      "execution_count": 16,
      "metadata": {
        "colab": {
          "base_uri": "https://localhost:8080/",
          "height": 110
        },
        "id": "7m97y1Qyhtsy",
        "outputId": "d03c7f19-e002-443a-a7d4-76160a979bee"
      },
      "outputs": [
        {
          "output_type": "stream",
          "name": "stderr",
          "text": [
            "Downloading...\n",
            "From: https://bit.ly/3eecMKZ\n",
            "To: /content/남산도서관 장서 대출목록 (2021년 04월).csv\n",
            "100%|██████████| 58.1M/58.1M [00:00<00:00, 198MB/s]\n"
          ]
        },
        {
          "output_type": "execute_result",
          "data": {
            "text/plain": [
              "'남산도서관 장서 대출목록 (2021년 04월).csv'"
            ],
            "application/vnd.google.colaboratory.intrinsic+json": {
              "type": "string"
            }
          },
          "metadata": {},
          "execution_count": 16
        }
      ],
      "source": [
        "# 대출 정보 다운로드\n",
        "import gdown\n",
        "# url에 있는 파일을 구글 코랩 드라이브에 다운로드\n",
        "gdown.download('https://bit.ly/3eecMKZ',\n",
        "               '남산도서관 장서 대출목록 (2021년 04월).csv', quiet=False)"
      ]
    },
    {
      "cell_type": "code",
      "source": [
        "# open() 함수는 기본적으로 utf-8로 인코딩하지만\n",
        "# 파일의 인코딩 형식이 UTF-8이 아닌 경우, 오류 발생\n",
        "# 문자 인코딩을 자동으로 감지하기 위한 라이브러리\n",
        "import chardet\n",
        "# 바이너리 모드로 지정할 시, 문자 인코딩 형식과 관계없이 파일을 열 수 있음\n",
        "with open(\"남산도서관 장서 대출목록 (2021년 04월).csv\", mode=\"rb\") as f:\n",
        "  d = f.readline()\n",
        "# 바이트 단위의 데이터로 문자 인코딩 감지\n",
        "print(chardet.detect(d))"
      ],
      "metadata": {
        "colab": {
          "base_uri": "https://localhost:8080/"
        },
        "id": "FOokMbrcio8i",
        "outputId": "f12d6104-fe70-4df9-a67d-01748e640149"
      },
      "execution_count": 26,
      "outputs": [
        {
          "output_type": "stream",
          "name": "stdout",
          "text": [
            "{'encoding': 'EUC-KR', 'confidence': 0.99, 'language': 'Korean'}\n"
          ]
        }
      ]
    },
    {
      "cell_type": "markdown",
      "source": [],
      "metadata": {
        "id": "LZbAvenYu19L"
      }
    },
    {
      "cell_type": "code",
      "source": [
        "with open(\"남산도서관 장서 대출목록 (2021년 04월).csv\", encoding=\"EUC-KR\") as f:\n",
        "  print(f.readline())\n",
        "  print(f.readline())"
      ],
      "metadata": {
        "colab": {
          "base_uri": "https://localhost:8080/"
        },
        "id": "Pzlpzi48peyb",
        "outputId": "7f716187-5df8-4790-9fab-3a73cbfc0f86"
      },
      "execution_count": 24,
      "outputs": [
        {
          "output_type": "stream",
          "name": "stdout",
          "text": [
            "번호,도서명,저자,출판사,발행년도,ISBN,세트 ISBN,부가기호,권,주제분류번호,도서권수,대출건수,등록일자,\n",
            "\n",
            "\"1\",\"인공지능과 흙\",\"김동훈 지음\",\"민음사\",\"2021\",\"9788937444319\",\"\",\"\",\"\",\"\",\"1\",\"0\",\"2021-03-19\",\n",
            "\n"
          ]
        }
      ]
    },
    {
      "cell_type": "code",
      "source": [],
      "metadata": {
        "id": "BfR6GKiJpe1L"
      },
      "execution_count": null,
      "outputs": []
    },
    {
      "cell_type": "code",
      "source": [],
      "metadata": {
        "id": "3eAHvWzbpe37"
      },
      "execution_count": null,
      "outputs": []
    },
    {
      "cell_type": "code",
      "source": [],
      "metadata": {
        "id": "5D14TgyMpe6r"
      },
      "execution_count": null,
      "outputs": []
    },
    {
      "cell_type": "code",
      "source": [],
      "metadata": {
        "id": "_9JRmKOLpe9b"
      },
      "execution_count": null,
      "outputs": []
    },
    {
      "cell_type": "code",
      "source": [],
      "metadata": {
        "id": "uZNm1eVIpfAb"
      },
      "execution_count": null,
      "outputs": []
    }
  ]
}